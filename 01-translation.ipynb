{
 "cells": [
  {
   "cell_type": "markdown",
   "metadata": {},
   "source": [
    "# Machine Translation\n",
    "\n",
    "Небольшой проект по переводу текста с русского языка на английский"
   ]
  },
  {
   "cell_type": "markdown",
   "metadata": {},
   "source": [
    "## 0. For Colab"
   ]
  },
  {
   "cell_type": "code",
   "execution_count": null,
   "metadata": {},
   "outputs": [],
   "source": [
    "# !pip install datasets\n",
    "# from google.colab import drive\n",
    "# drive.mount('/content/drive')\n",
    "\n",
    "# %cd /content/drive/MyDrive/machine_translation/"
   ]
  },
  {
   "cell_type": "markdown",
   "metadata": {},
   "source": [
    "## 1. Data\n",
    "\n",
    "Я выбрал корпус текстов OpenSubtitle (http://www.opensubtitles.org/) с ресурса OPUS (https://opus.nlpl.eu/OpenSubtitles/ru&en/v2018/OpenSubtitles)\n",
    "\n",
    "Раскомментируйте ячейку снизу и запустите ее для скачивания данных или сделайте это вручную\n",
    "\n",
    "**Предупреждаю сразу**: мощности не позволяют воспользоваться всем датасетом! К сожалению, придется ограничиться лишь небольшой долей от него. Поэтому я возьму всего миллион строчек и буду работать с ними"
   ]
  },
  {
   "cell_type": "code",
   "execution_count": 1,
   "metadata": {},
   "outputs": [],
   "source": [
    "# !wget -q -O data/en-ru.txt.zip https://object.pouta.csc.fi/OPUS-OpenSubtitles/v2018/moses/en-ru.txt.zip\n",
    "# !unzip data/en-ru.txt.zip -d data\n",
    "# !mv data/OpenSubtitles.en-ru.en data/en.txt\n",
    "# !mv data/OpenSubtitles.en-ru.ru data/ru.txt\n",
    "# !rm data/en-ru.txt.zip\n",
    "# !rm data/OpenSubtitles.en-ru.ids"
   ]
  },
  {
   "cell_type": "markdown",
   "metadata": {},
   "source": [
    "Для удобства, все нужные данные я засунул в один `csv` файл. Раскомментируйте ячейку снизу и выполните код"
   ]
  },
  {
   "cell_type": "code",
   "execution_count": 2,
   "metadata": {},
   "outputs": [],
   "source": [
    "# import pandas as pd\n",
    "\n",
    "# N = 1_000_000\n",
    "\n",
    "# with open(\"data/ru.txt\", \"r\") as f_ru, open(\"data/en.txt\", \"r\") as f_en:\n",
    "#     ru_lines = [s.strip() for s in f_ru.readlines()[:N]]\n",
    "#     en_lines = [s.strip() for s in f_en.readlines()[:N]]\n",
    "\n",
    "#     pd.DataFrame({\"ru\": ru_lines, \"en\": en_lines}).to_csv(\"data/data.csv\", index=False)"
   ]
  },
  {
   "cell_type": "code",
   "execution_count": 4,
   "metadata": {},
   "outputs": [],
   "source": [
    "import random\n",
    "import os\n",
    "import numpy as np\n",
    "import pandas as pd\n",
    "import torch\n",
    "from torch import nn\n",
    "from torch.nn.utils.rnn import pack_padded_sequence, pad_sequence\n",
    "from torch.nn.utils import clip_grad_norm_\n",
    "from torch.utils.data import DataLoader\n",
    "from torchtext.vocab import Vocab, build_vocab_from_iterator\n",
    "from torchtext.data.metrics import bleu_score \n",
    "import matplotlib.pyplot as plt\n",
    "import seaborn as sns\n",
    "from datasets import load_dataset, Dataset, DatasetDict\n",
    "import spacy\n",
    "from typing import List, Literal, Dict, Tuple\n",
    "import regex\n",
    "from IPython.display import clear_output\n",
    "from tqdm.notebook import tqdm\n",
    "\n",
    "%matplotlib inline\n",
    "\n",
    "sns.set_style(\"darkgrid\")\n",
    "sns.set_context(\"notebook\")"
   ]
  },
  {
   "cell_type": "markdown",
   "metadata": {},
   "source": [
    "Также раскомментируйте эту строчку, чтобы скачать токенизаторы от spacy"
   ]
  },
  {
   "cell_type": "code",
   "execution_count": 5,
   "metadata": {},
   "outputs": [],
   "source": [
    "# !python -m spacy download ru_core_news_sm\n",
    "# !python -m spacy download en_core_web_sm"
   ]
  },
  {
   "cell_type": "markdown",
   "metadata": {},
   "source": [
    "Зафиксируем random seed для детерминированности всех процессов"
   ]
  },
  {
   "cell_type": "code",
   "execution_count": 6,
   "metadata": {},
   "outputs": [],
   "source": [
    "seed = 42\n",
    "\n",
    "def set_seed(seed: int) -> None:\n",
    "    random.seed(seed)\n",
    "    np.random.seed(seed)\n",
    "    torch.manual_seed(seed)\n",
    "    torch.cuda.manual_seed(seed)\n",
    "    torch.backends.cudnn.deterministic = True\n",
    "\n",
    "set_seed(seed)"
   ]
  },
  {
   "cell_type": "markdown",
   "metadata": {},
   "source": [
    "Прочитаем данные с помощью библиотеки HuggingFace Datasets, разделим данные на тренировочную (80%), валидационную (10%) и тестовую (10%) выборки"
   ]
  },
  {
   "cell_type": "code",
   "execution_count": 7,
   "metadata": {},
   "outputs": [
    {
     "name": "stderr",
     "output_type": "stream",
     "text": [
      "Found cached dataset csv (/home/ilyas/Documents/study/ml/machine_translation/data/cache/csv/default-a9ae0552c7a89f5b/0.0.0/6954658bab30a358235fa864b05cf819af0e179325c740e4bc853bcc7ec513e1)\n"
     ]
    },
    {
     "data": {
      "text/plain": [
       "Dataset({\n",
       "    features: ['ru', 'en'],\n",
       "    num_rows: 1000000\n",
       "})"
      ]
     },
     "execution_count": 7,
     "metadata": {},
     "output_type": "execute_result"
    }
   ],
   "source": [
    "dataset = load_dataset(\n",
    "    \"csv\", data_files=\"data/data.csv\", cache_dir=\"data/cache\", split=\"train\"\n",
    ")\n",
    "dataset"
   ]
  },
  {
   "cell_type": "markdown",
   "metadata": {},
   "source": [
    "### 1.1. Первичная фильтрация\n",
    "\n",
    "Отфильтруем данные\n",
    "- Тексты не должны быть пропущены, то есть без `None`\n",
    "- Уберем тексты с какими-то нестандартными символами\n",
    "\n",
    "Для этого я подготовил регулярное выражение, которое убирает тексты, содержащие \"неправильные\" символы"
   ]
  },
  {
   "cell_type": "code",
   "execution_count": 8,
   "metadata": {},
   "outputs": [],
   "source": [
    "valid_ranges = (r\"\\u0400-\\u04FF\", r\"\\u0000-\\u007F\", r\"\\d\", r\"\\p{P}\")\n",
    "\n",
    "valid_pattern = regex.compile(f'^[{\"\".join(valid_ranges)}]+$')\n",
    "\n",
    "\n",
    "def filter_symbols(example: dict) -> bool:\n",
    "    return (\n",
    "        example[\"ru\"] is not None\n",
    "        and example[\"en\"] is not None\n",
    "        and regex.match(valid_pattern, example[\"ru\"]) is not None\n",
    "        and regex.match(valid_pattern, example[\"en\"]) is not None\n",
    "    )"
   ]
  },
  {
   "cell_type": "code",
   "execution_count": 9,
   "metadata": {},
   "outputs": [
    {
     "name": "stderr",
     "output_type": "stream",
     "text": [
      "Loading cached processed dataset at /home/ilyas/Documents/study/ml/machine_translation/data/cache/csv/default-a9ae0552c7a89f5b/0.0.0/6954658bab30a358235fa864b05cf819af0e179325c740e4bc853bcc7ec513e1/cache-7102c6c19bdf8dca.arrow\n"
     ]
    },
    {
     "data": {
      "text/plain": [
       "Dataset({\n",
       "    features: ['ru', 'en'],\n",
       "    num_rows: 987196\n",
       "})"
      ]
     },
     "execution_count": 9,
     "metadata": {},
     "output_type": "execute_result"
    }
   ],
   "source": [
    "dataset = dataset.filter(filter_symbols)\n",
    "\n",
    "dataset"
   ]
  },
  {
   "cell_type": "markdown",
   "metadata": {},
   "source": [
    "Также поделим датасет на тренировочную (80%), валидационную (10%) и тестовую (10%) выборки"
   ]
  },
  {
   "cell_type": "code",
   "execution_count": 10,
   "metadata": {},
   "outputs": [
    {
     "name": "stderr",
     "output_type": "stream",
     "text": [
      "Loading cached split indices for dataset at /home/ilyas/Documents/study/ml/machine_translation/data/cache/csv/default-a9ae0552c7a89f5b/0.0.0/6954658bab30a358235fa864b05cf819af0e179325c740e4bc853bcc7ec513e1/cache-1aacd5ae0886003c.arrow and /home/ilyas/Documents/study/ml/machine_translation/data/cache/csv/default-a9ae0552c7a89f5b/0.0.0/6954658bab30a358235fa864b05cf819af0e179325c740e4bc853bcc7ec513e1/cache-33ba9b0c8ad3f225.arrow\n",
      "Loading cached split indices for dataset at /home/ilyas/Documents/study/ml/machine_translation/data/cache/csv/default-a9ae0552c7a89f5b/0.0.0/6954658bab30a358235fa864b05cf819af0e179325c740e4bc853bcc7ec513e1/cache-3565de033cc0f9b2.arrow and /home/ilyas/Documents/study/ml/machine_translation/data/cache/csv/default-a9ae0552c7a89f5b/0.0.0/6954658bab30a358235fa864b05cf819af0e179325c740e4bc853bcc7ec513e1/cache-cc0b9101e522e32f.arrow\n"
     ]
    },
    {
     "data": {
      "text/plain": [
       "DatasetDict({\n",
       "    train: Dataset({\n",
       "        features: ['ru', 'en'],\n",
       "        num_rows: 789756\n",
       "    })\n",
       "    valid: Dataset({\n",
       "        features: ['ru', 'en'],\n",
       "        num_rows: 98720\n",
       "    })\n",
       "    test: Dataset({\n",
       "        features: ['ru', 'en'],\n",
       "        num_rows: 98720\n",
       "    })\n",
       "})"
      ]
     },
     "execution_count": 10,
     "metadata": {},
     "output_type": "execute_result"
    }
   ],
   "source": [
    "def split_dataset(\n",
    "    dataset: Dataset, valid_size: float, test_size: float, seed: int | None = None\n",
    ") -> DatasetDict:\n",
    "    testvalid_size = valid_size + test_size\n",
    "\n",
    "    train_testvalid = dataset.train_test_split(test_size=testvalid_size, seed=seed)\n",
    "\n",
    "    test_valid = train_testvalid[\"test\"].train_test_split(\n",
    "        test_size=(test_size / testvalid_size), seed=seed\n",
    "    )\n",
    "\n",
    "    return DatasetDict(\n",
    "        {\n",
    "            \"train\": train_testvalid[\"train\"],\n",
    "            \"valid\": test_valid[\"train\"],\n",
    "            \"test\": test_valid[\"test\"],\n",
    "        }\n",
    "    )\n",
    "\n",
    "dataset = split_dataset(dataset, valid_size=0.1, test_size=0.1, seed=seed)\n",
    "dataset"
   ]
  },
  {
   "cell_type": "markdown",
   "metadata": {},
   "source": [
    "Просмотрим некоторые примеры из корпуса"
   ]
  },
  {
   "cell_type": "code",
   "execution_count": 11,
   "metadata": {},
   "outputs": [
    {
     "name": "stdout",
     "output_type": "stream",
     "text": [
      "1. Почему? --- Why?\n",
      "2. - Кто она? --- -What's her name?\n",
      "3. Не так быстро. --- Just a moment.\n",
      "4. Я расскажу вам о маме. --- I'll tell you what a mother is.\n",
      "5. Заходите в гости, буду ждать. --- Come and see me.\n"
     ]
    }
   ],
   "source": [
    "example_fragment = dataset[\"train\"][:5]\n",
    "\n",
    "for i, (ru, en) in enumerate(zip(example_fragment[\"ru\"], example_fragment[\"en\"])):\n",
    "    print(f\"{i + 1}. {ru} --- {en}\")"
   ]
  },
  {
   "cell_type": "markdown",
   "metadata": {},
   "source": [
    "Посмотрим, как выглядит распределение длин текстов на русском и английском языках. Для этого вначале замапим значения длин в датасет"
   ]
  },
  {
   "cell_type": "code",
   "execution_count": 12,
   "metadata": {},
   "outputs": [
    {
     "name": "stderr",
     "output_type": "stream",
     "text": [
      "Loading cached processed dataset at /home/ilyas/Documents/study/ml/machine_translation/data/cache/csv/default-a9ae0552c7a89f5b/0.0.0/6954658bab30a358235fa864b05cf819af0e179325c740e4bc853bcc7ec513e1/cache-819c5624ab695239.arrow\n",
      "Loading cached processed dataset at /home/ilyas/Documents/study/ml/machine_translation/data/cache/csv/default-a9ae0552c7a89f5b/0.0.0/6954658bab30a358235fa864b05cf819af0e179325c740e4bc853bcc7ec513e1/cache-cd6243b203b1ef9a.arrow\n",
      "Loading cached processed dataset at /home/ilyas/Documents/study/ml/machine_translation/data/cache/csv/default-a9ae0552c7a89f5b/0.0.0/6954658bab30a358235fa864b05cf819af0e179325c740e4bc853bcc7ec513e1/cache-cf469de99e27a7ba.arrow\n"
     ]
    },
    {
     "data": {
      "text/plain": [
       "DatasetDict({\n",
       "    train: Dataset({\n",
       "        features: ['ru', 'en', 'ru_len', 'en_len'],\n",
       "        num_rows: 789756\n",
       "    })\n",
       "    valid: Dataset({\n",
       "        features: ['ru', 'en', 'ru_len', 'en_len'],\n",
       "        num_rows: 98720\n",
       "    })\n",
       "    test: Dataset({\n",
       "        features: ['ru', 'en', 'ru_len', 'en_len'],\n",
       "        num_rows: 98720\n",
       "    })\n",
       "})"
      ]
     },
     "execution_count": 12,
     "metadata": {},
     "output_type": "execute_result"
    }
   ],
   "source": [
    "dataset = dataset.map(\n",
    "    lambda example: {\"ru_len\": len(example[\"ru\"]), \"en_len\": len(example[\"en\"])}\n",
    ")\n",
    "dataset"
   ]
  },
  {
   "cell_type": "markdown",
   "metadata": {},
   "source": [
    "### 1.2. Длины текстов\n",
    "\n",
    "Попробуем визуализировать длины текстов на обоих языках. "
   ]
  },
  {
   "cell_type": "code",
   "execution_count": 13,
   "metadata": {},
   "outputs": [],
   "source": [
    "def plot_characteristics(\n",
    "    x1: np.ndarray,\n",
    "    x2: np.ndarray,\n",
    "    title: str,\n",
    "    xlabel: str,\n",
    "    bins: int = 20,\n",
    "    log_scale: bool = False,\n",
    ") -> None:\n",
    "    _, ax = plt.subplots(1, 2, figsize=(10, 5))\n",
    "    \n",
    "    for x, axes, lang in zip([x1, x2], ax, [\"Russian\", \"English\"]):\n",
    "        sns.histplot(x=x, ax=axes, log_scale=log_scale, bins=bins)\n",
    "        axes.set_title(f\"{title}, {lang}\")\n",
    "        axes.set_xlabel(xlabel)\n",
    "    \n",
    "        axes.axvline(\n",
    "            x.mean(),\n",
    "            color=\"orange\",\n",
    "            linestyle=\"--\",\n",
    "            label=\"Mean\",\n",
    "        )\n",
    "        \n",
    "        axes.legend()\n",
    "\n",
    "    plt.show()"
   ]
  },
  {
   "cell_type": "code",
   "execution_count": 14,
   "metadata": {},
   "outputs": [
    {
     "data": {
      "image/png": "[encoded data removed]",
      "text/plain": [
       "<Figure size 1000x500 with 2 Axes>"
      ]
     },
     "metadata": {},
     "output_type": "display_data"
    }
   ],
   "source": [
    "plot_characteristics(\n",
    "    np.array(dataset[\"train\"][\"ru_len\"]),\n",
    "    np.array(dataset[\"train\"][\"en_len\"]),\n",
    "    title=\"Lengths\",\n",
    "    xlabel=\"Lengths\",\n",
    ")"
   ]
  },
  {
   "cell_type": "markdown",
   "metadata": {},
   "source": [
    "Как видим, большая часть текстов имеет небольшую длину. Посмотрим на некоторые статистики этих распределений: среднее, разброс, 99% перцентиль"
   ]
  },
  {
   "cell_type": "code",
   "execution_count": 15,
   "metadata": {},
   "outputs": [
    {
     "data": {
      "image/png": "[encoded data removed]",
      "text/plain": [
       "<Figure size 640x480 with 1 Axes>"
      ]
     },
     "metadata": {},
     "output_type": "display_data"
    }
   ],
   "source": [
    "def plot_length_statistics(dataset: Dataset, quantile: float):\n",
    "    ru_len_array = np.array(dataset[\"ru_len\"])\n",
    "    en_len_array = np.array(dataset[\"en_len\"])\n",
    "\n",
    "    len_stats = {\"statistic\": [], \"value\": [], \"language\": []}\n",
    "\n",
    "    for statistic, name in zip(\n",
    "        [np.mean, np.std, lambda a: np.quantile(a, quantile)], [\"mean\", \"std\", f\"{quantile} quantile\"]\n",
    "    ):\n",
    "        for arr, lang in zip([ru_len_array, en_len_array], [\"ru\", \"en\"]):\n",
    "            len_stats[\"value\"].append(statistic(arr))\n",
    "            len_stats[\"statistic\"].append(name)\n",
    "            len_stats[\"language\"].append(lang)\n",
    "\n",
    "    len_stats = pd.DataFrame(len_stats)\n",
    "\n",
    "    sns.barplot(len_stats, x=\"statistic\", y=\"value\", hue=\"language\")\n",
    "    plt.title(\"Statistics of text lengths\")\n",
    "    plt.show()\n",
    "\n",
    "plot_length_statistics(dataset[\"train\"], quantile=0.99)"
   ]
  },
  {
   "cell_type": "markdown",
   "metadata": {},
   "source": [
    "Как видим, распределения довольно похожи. Тексты на английском языке в среднем немного длиннее, чем на русском.\n",
    "\n",
    "Заметим также, что 99% всех текстов имеют длину менее 120 символов. Посмотрим на некоторые совсем длинные предложения"
   ]
  },
  {
   "cell_type": "code",
   "execution_count": 16,
   "metadata": {},
   "outputs": [
    {
     "name": "stdout",
     "output_type": "stream",
     "text": [
      "149808. она станет вам хорошим другом возлюбленной, преданной женой, а потом и матерью и не позволяйте мимолетным импульсам ослепить вас я вообще то не думал о браке я знаю, но вскоре задумаетесь я хочу что бы вы запомнили все что я вам сказала\n",
      "Is she going to be a good friend besides a a sweetheart, a faithful wife, a consciencious mother. Now don't let passing impulses blind you. I wasn't thinking about marriage.\n",
      "688088. Ведь это так просто для людей, сказать что им жаль, но никто не может сказать, что значит для матери потерять ребенка, потому что она единственная, кто понимает, кто может представить себе такого человека он будет расти.\n",
      "It's so easy for people to be sorry, but no one can tell what it means to a mother to lose a child, because she's the only one who understands, who can imagine the kind of man he was going to grow up to be.\n",
      "555287. Наши выводы относительно доклада начальника Таррона - заключенный, Йен Честертон виновен в совершении убийства, и заслуживает смертного приговора, который должен быть приведён в действие в течение трех дней по окончании слушаний... теперь представитель обвиняемого может назвать свои доводы,\n",
      "Our decision on the report of Chief Enquirer Tarron is that the prisoner Ian Chesterton is guilty of murder and that his sentence is death. The said sentence to be administered three days after the end of this hearing unless, unless the representative for the accused can show positive proof why the execution should not be carried out.\n",
      "429201. Благодаря их страсти на земле, смешанной с их потом и кровью, выросли шахты и лесопильные заводы, пшеничные поля и фруктовые сады, на месте горящих пустынь появились озера. Страна росла и развивалась.\n",
      "From soil enriched by their blood out of their fever to explore and build came lakes where once were burning deserts came the goods of the earth, mines and wheat fields orchards and great lumber mills all the sinews of a growing country.\n",
      "155187. Моя дорогая сестра font color-\"#e1e1e1\"попыталась пародировать девушку Данелл. font color-\"#e1e1e1\" -Но это похоже на мужчину, font color-\"#e1e1e1\"чей сын был в Америке font color-\"#e1e1e1\"и слышал Великого Карузо.\n",
      "My dear sister did try to imitate the Danell girl, but it reminds me of the man whose son went to America and heard the great Caruso.\n"
     ]
    }
   ],
   "source": [
    "def show_long_sentences(\n",
    "    dataset: Dataset,\n",
    "    column: str,\n",
    "    length_threshold: int,\n",
    "    n_to_show: int = 5,\n",
    "    seed: int | None = None,\n",
    ") -> None:\n",
    "    indices = np.argwhere(np.array(dataset[column]) >= length_threshold).reshape(-1)\n",
    "    if seed:\n",
    "        np.random.seed(seed)\n",
    "    indices = np.random.choice(indices, size=n_to_show)\n",
    "\n",
    "    for i in indices:\n",
    "        i = i.item()\n",
    "        print(f\"{i}. {dataset[i]['ru']}\")\n",
    "        print(dataset[i][\"en\"])\n",
    "\n",
    "\n",
    "show_long_sentences(dataset[\"train\"], column=\"ru_len\", length_threshold=200, seed=seed)"
   ]
  },
  {
   "cell_type": "markdown",
   "metadata": {},
   "source": [
    "Как видим, значения довольно адекватны. Тем не менее, мы скорее предпочтем убрать такие данные, чтобы модель обучалась на более однородных текстах"
   ]
  },
  {
   "cell_type": "markdown",
   "metadata": {},
   "source": [
    "### 1.3. Разница в длинах\n",
    "\n",
    "Рассмотрим некоторые проблемы, которые могут возникать, если мы начнем рассматривать переводы, которые сильно отличаются длинами\n",
    "1. Съехавшие субтитры: на один и тот же фрагмент по-русски выдается одно, а по-английски - уже другое\n",
    "2. Объединяющие субтитры: примерно то же самое. Субтитры для двух последовательных фрагментов могут показывать разом\n",
    "3. Нередко в субтитрах бывает такое, что находятся фрагменты с поясняющим текстом. К примеру, многие переводчики добавляют пояснения к шуткам или культурным отсылкам. Их труд мы, конечно, уважаем, но для задачи обучения модели такие переводы кажутся не лучшим вариантом\n",
    "4. Старая-добрая \"отсебятина\"\n",
    "\n",
    "Для начала посмотрим на распределение разниц длин текстов"
   ]
  },
  {
   "cell_type": "code",
   "execution_count": 17,
   "metadata": {},
   "outputs": [
    {
     "data": {
      "image/png": "[encoded data removed]",
      "text/plain": [
       "<Figure size 640x480 with 1 Axes>"
      ]
     },
     "metadata": {},
     "output_type": "display_data"
    }
   ],
   "source": [
    "def plot_length_difference(\n",
    "    length_ru: np.ndarray,\n",
    "    length_en: np.ndarray,\n",
    "    threshold: int | None = None,\n",
    "    title=\"Length difference\",\n",
    "    label=\"Length\",\n",
    "    plot_kwargs: dict = {}\n",
    "):\n",
    "    diff = np.abs(length_ru - length_en)\n",
    "    \n",
    "    if threshold is not None:\n",
    "        diff = diff[diff <= threshold]\n",
    "    \n",
    "    sns.histplot(x=diff, **plot_kwargs)\n",
    "    plt.title(title)\n",
    "    plt.xlabel(label)\n",
    "    plt.show()\n",
    "\n",
    "\n",
    "plot_length_difference(\n",
    "    length_ru=np.array(dataset[\"train\"][\"ru_len\"]),\n",
    "    length_en=np.array(dataset[\"train\"][\"en_len\"]),\n",
    ")"
   ]
  },
  {
   "cell_type": "markdown",
   "metadata": {},
   "source": [
    "Как видим, что-то здесь явно не так. Попробуем ограничить максимальную разницу в длинах каким-то более-менее адекватным числом и вновь посмотрим на это распределение"
   ]
  },
  {
   "cell_type": "code",
   "execution_count": 18,
   "metadata": {},
   "outputs": [
    {
     "data": {
      "image/png": "[encoded data removed]",
      "text/plain": [
       "<Figure size 640x480 with 1 Axes>"
      ]
     },
     "metadata": {},
     "output_type": "display_data"
    }
   ],
   "source": [
    "plot_length_difference(\n",
    "    length_ru=np.array(dataset[\"train\"][\"ru_len\"]),\n",
    "    length_en=np.array(dataset[\"train\"][\"en_len\"]),\n",
    "    threshold=70\n",
    ")"
   ]
  },
  {
   "cell_type": "markdown",
   "metadata": {},
   "source": [
    "Посмотрим на некоторые примеры слишком длинных переводов"
   ]
  },
  {
   "cell_type": "code",
   "execution_count": 19,
   "metadata": {},
   "outputs": [
    {
     "name": "stdout",
     "output_type": "stream",
     "text": [
      "570977. - Ты понял, что я требую продать дом?\n",
      "- Well, as long as we have time... - You understand? - Do you realize I wanna sell the place?\n",
      "65357. Небольшое осложнение, небольшое охлаждение, небольшое воспаление.\n",
      "Just as I thought. A slight touch of monetary complications with bucolic semi-lunar contraptions of the flying trapezes.\n",
      "422043. Мы убежали, но нас нашли и привезли назад.\n",
      "We ran away, but they caught us and brought us back. And that's all there was to it.\n",
      "405950. Не теряйте время, он нас не видит.\n",
      "- All right, come on now, forget it. - You're wasting time, they didn't see us. - Bloody pilots.\n",
      "449704. Он поклялся больше не прикасаться к сейфам.\n",
      "Why haven't you asked Daniel? With everything that's happened, he doesn't want to touch a safe.\n",
      "493020. Что это?\n",
      "I wanna know why those parlors are still operating.\n",
      "38305. а не его.\n",
      "If something goes wrong with me, my father will kill you, not Lord Choi.\n",
      "344326. - Добро пожаловать.\n",
      "Will you put the mademoiselle's luggage in my car and bring me the bill?\n",
      "436631. Два года назад он выиграл приз \"Золотые рога\" в Мадриде.\n",
      "Two years ago, he won the Golden Ears in Madrid. Last year, the Rose of Guadalupe here in the Plaza de Mexico.\n",
      "653500. я клею!\n",
      "I'm pasting, I'm pasting. I'm pasting, I'm pasting.\n"
     ]
    }
   ],
   "source": [
    "def show_long_translations(\n",
    "    dataset: Dataset,\n",
    "    column1: str,\n",
    "    column2: str,\n",
    "    length_diff_threshold: int,\n",
    "    n_to_show: int = 10,\n",
    "    seed: int | None = None,\n",
    ") -> None:\n",
    "    diff = np.abs(np.array(dataset[column1]) - np.array(dataset[column2]))\n",
    "    indices = np.argwhere(diff >= length_diff_threshold).reshape(-1)\n",
    "    if seed:\n",
    "        np.random.seed(seed)\n",
    "    indices = np.random.choice(indices, size=n_to_show)\n",
    "\n",
    "    for i in indices:\n",
    "        i = i.item()\n",
    "        print(f\"{i}. {dataset[i]['ru']}\")\n",
    "        print(dataset[i][\"en\"])\n",
    "\n",
    "\n",
    "show_long_translations(\n",
    "    dataset[\"train\"],\n",
    "    column1=\"ru_len\",\n",
    "    column2=\"en_len\",\n",
    "    length_diff_threshold=40,\n",
    "    seed=seed,\n",
    ")"
   ]
  },
  {
   "cell_type": "markdown",
   "metadata": {},
   "source": [
    "Действительно, видно проблемы с такими текстами\n",
    "\n",
    "Итак, отфильтруем датасет:\n",
    "- Тексты не должны быть слишком длинными\n",
    "- Длины не должны сильно отличаться"
   ]
  },
  {
   "cell_type": "code",
   "execution_count": 20,
   "metadata": {},
   "outputs": [
    {
     "name": "stderr",
     "output_type": "stream",
     "text": [
      "Loading cached processed dataset at /home/ilyas/Documents/study/ml/machine_translation/data/cache/csv/default-a9ae0552c7a89f5b/0.0.0/6954658bab30a358235fa864b05cf819af0e179325c740e4bc853bcc7ec513e1/cache-52f2b5543a64c2f1.arrow\n",
      "Loading cached processed dataset at /home/ilyas/Documents/study/ml/machine_translation/data/cache/csv/default-a9ae0552c7a89f5b/0.0.0/6954658bab30a358235fa864b05cf819af0e179325c740e4bc853bcc7ec513e1/cache-442838cf77d94522.arrow\n",
      "Loading cached processed dataset at /home/ilyas/Documents/study/ml/machine_translation/data/cache/csv/default-a9ae0552c7a89f5b/0.0.0/6954658bab30a358235fa864b05cf819af0e179325c740e4bc853bcc7ec513e1/cache-2c5a804bb4ec447e.arrow\n"
     ]
    },
    {
     "name": "stdout",
     "output_type": "stream",
     "text": [
      "Before filtering by length: {'train': 789756, 'valid': 98720, 'test': 98720}\n",
      "Before filtering by length: {'train': 769701, 'valid': 96272, 'test': 96144}\n"
     ]
    }
   ],
   "source": [
    "length_threshold = 125\n",
    "length_diff_threshold = 35\n",
    "\n",
    "print(f\"Before filtering by length: {dataset.num_rows}\")\n",
    "\n",
    "dataset = dataset.filter(\n",
    "    lambda example: example[\"ru_len\"] < length_threshold\n",
    "    and example[\"en_len\"] < length_threshold\n",
    "    and abs(example[\"ru_len\"] - example[\"en_len\"]) < length_diff_threshold\n",
    ")\n",
    "\n",
    "print(f\"Before filtering by length: {dataset.num_rows}\")"
   ]
  },
  {
   "cell_type": "markdown",
   "metadata": {},
   "source": [
    "### 1.4. Токенизация\n",
    "\n",
    "Для токенизации я буду использовать библиотеку [Spacy](https://spacy.io/)."
   ]
  },
  {
   "cell_type": "code",
   "execution_count": 21,
   "metadata": {},
   "outputs": [],
   "source": [
    "nlp_ru = spacy.load(\"ru_core_news_sm\")\n",
    "nlp_en = spacy.load(\"en_core_web_sm\")"
   ]
  },
  {
   "cell_type": "markdown",
   "metadata": {},
   "source": [
    "Для начала я задам специальные токены: \n",
    "- `<unk>` - токен для неизвестного символа\n",
    "- `<pad>` - токен для \"набивки\" последовательности до определенной длины\n",
    "- `<sos>` - начало последовательности\n",
    "- `<eos>` - конец последовательности"
   ]
  },
  {
   "cell_type": "code",
   "execution_count": 22,
   "metadata": {},
   "outputs": [],
   "source": [
    "unk_token = \"<unk>\"\n",
    "pad_token = \"<pad>\"\n",
    "sos_token = \"<sos>\"\n",
    "eos_token = \"<eos>\"\n",
    "\n",
    "special_tokens = [unk_token, pad_token, sos_token, eos_token]"
   ]
  },
  {
   "cell_type": "markdown",
   "metadata": {},
   "source": [
    "При токенизации я буду добавлять в начало и в конец символы `<sos>` и `<eos>`.\n",
    "Также для нашей задачи будет целесообразным приводить все тексты (и все токены) к нижнему регистру"
   ]
  },
  {
   "cell_type": "code",
   "execution_count": 23,
   "metadata": {},
   "outputs": [],
   "source": [
    "def tokenize_ru(s: str) -> List[str]:\n",
    "    return [sos_token] + [token.text for token in nlp_ru.tokenizer(s.lower())] + [eos_token]\n",
    "\n",
    "\n",
    "def tokenize_en(s: str) -> List[str]:\n",
    "    return [sos_token] + [token.text for token in nlp_en.tokenizer(s.lower())] + [eos_token]"
   ]
  },
  {
   "cell_type": "markdown",
   "metadata": {},
   "source": [
    "Посмотрим примеры токенизации некоторых текстов"
   ]
  },
  {
   "cell_type": "code",
   "execution_count": 24,
   "metadata": {},
   "outputs": [
    {
     "name": "stdout",
     "output_type": "stream",
     "text": [
      "1. Почему? --- ['<sos>', 'почему', '?', '<eos>']\n",
      "Why? --- ['<sos>', 'why', '?', '<eos>']\n",
      "2. - Кто она? --- ['<sos>', '-', 'кто', 'она', '?', '<eos>']\n",
      "-What's her name? --- ['<sos>', '-what', \"'s\", 'her', 'name', '?', '<eos>']\n",
      "3. Не так быстро. --- ['<sos>', 'не', 'так', 'быстро', '.', '<eos>']\n",
      "Just a moment. --- ['<sos>', 'just', 'a', 'moment', '.', '<eos>']\n",
      "4. Я расскажу вам о маме. --- ['<sos>', 'я', 'расскажу', 'вам', 'о', 'маме', '.', '<eos>']\n",
      "I'll tell you what a mother is. --- ['<sos>', 'i', \"'ll\", 'tell', 'you', 'what', 'a', 'mother', 'is', '.', '<eos>']\n",
      "5. Заходите в гости, буду ждать. --- ['<sos>', 'заходите', 'в', 'гости', ',', 'буду', 'ждать', '.', '<eos>']\n",
      "Come and see me. --- ['<sos>', 'come', 'and', 'see', 'me', '.', '<eos>']\n"
     ]
    }
   ],
   "source": [
    "for i, (ru, en) in enumerate(zip(example_fragment[\"ru\"], example_fragment[\"en\"])):\n",
    "    print(f\"{i + 1}. {ru} --- {tokenize_ru(ru)}\")\n",
    "    print(f\"{en} --- {tokenize_en(en)}\")"
   ]
  },
  {
   "cell_type": "markdown",
   "metadata": {},
   "source": [
    "Теперь токенизируем все наши тексты"
   ]
  },
  {
   "cell_type": "code",
   "execution_count": 25,
   "metadata": {},
   "outputs": [
    {
     "name": "stderr",
     "output_type": "stream",
     "text": [
      "Loading cached processed dataset at /home/ilyas/Documents/study/ml/machine_translation/data/cache/csv/default-a9ae0552c7a89f5b/0.0.0/6954658bab30a358235fa864b05cf819af0e179325c740e4bc853bcc7ec513e1/cache-52f449a95867d9f8.arrow\n",
      "Loading cached processed dataset at /home/ilyas/Documents/study/ml/machine_translation/data/cache/csv/default-a9ae0552c7a89f5b/0.0.0/6954658bab30a358235fa864b05cf819af0e179325c740e4bc853bcc7ec513e1/cache-4496e3bf33ea829c.arrow\n",
      "Loading cached processed dataset at /home/ilyas/Documents/study/ml/machine_translation/data/cache/csv/default-a9ae0552c7a89f5b/0.0.0/6954658bab30a358235fa864b05cf819af0e179325c740e4bc853bcc7ec513e1/cache-84c1687beefe82d1.arrow\n"
     ]
    },
    {
     "data": {
      "text/plain": [
       "DatasetDict({\n",
       "    train: Dataset({\n",
       "        features: ['ru', 'en', 'ru_len', 'en_len', 'ru_tokens', 'en_tokens'],\n",
       "        num_rows: 769701\n",
       "    })\n",
       "    valid: Dataset({\n",
       "        features: ['ru', 'en', 'ru_len', 'en_len', 'ru_tokens', 'en_tokens'],\n",
       "        num_rows: 96272\n",
       "    })\n",
       "    test: Dataset({\n",
       "        features: ['ru', 'en', 'ru_len', 'en_len', 'ru_tokens', 'en_tokens'],\n",
       "        num_rows: 96144\n",
       "    })\n",
       "})"
      ]
     },
     "execution_count": 25,
     "metadata": {},
     "output_type": "execute_result"
    }
   ],
   "source": [
    "dataset = dataset.map(\n",
    "    lambda example: {\n",
    "        \"ru_tokens\": tokenize_ru(example[\"ru\"]),\n",
    "        \"en_tokens\": tokenize_en(example[\"en\"]),\n",
    "    }\n",
    ")\n",
    "dataset"
   ]
  },
  {
   "cell_type": "markdown",
   "metadata": {},
   "source": [
    "### 1.5. Словари\n",
    "\n",
    "Теперь построим словари для обоих языков. Опять же, они будут небольшими, поскольку проект является не самым амбициозным"
   ]
  },
  {
   "cell_type": "code",
   "execution_count": 26,
   "metadata": {},
   "outputs": [],
   "source": [
    "class TokenVocabIterator:\n",
    "    def __init__(self, dataset: Dataset, feature_name: str):\n",
    "        self.dataset = dataset\n",
    "        self.feature_name = feature_name\n",
    "        self.i = 0\n",
    "        self.length = dataset.num_rows\n",
    "\n",
    "    def __iter__(self):\n",
    "        return self\n",
    "\n",
    "    def __next__(self) -> List[str]:\n",
    "        if self.i < self.length:\n",
    "            tokens = self.dataset[self.i][self.feature_name]\n",
    "            self.i += 1\n",
    "            return tokens\n",
    "        raise StopIteration"
   ]
  },
  {
   "cell_type": "code",
   "execution_count": 27,
   "metadata": {},
   "outputs": [],
   "source": [
    "def load_or_build_vocab(dataset: Dataset, lang: Literal[\"en\", \"ru\"], build_args: Dict = {}) -> Vocab:\n",
    "    path = f\"data/vocab_{lang}.pth\"\n",
    "    if not os.path.exists(path):\n",
    "        vocab = build_vocab_from_iterator(\n",
    "            TokenVocabIterator(dataset, f\"{lang}_tokens\"),\n",
    "            **build_args\n",
    "        )\n",
    "\n",
    "        torch.save(vocab, path)\n",
    "    else:\n",
    "        vocab = torch.load(path)\n",
    "    \n",
    "    return vocab"
   ]
  },
  {
   "cell_type": "code",
   "execution_count": 28,
   "metadata": {},
   "outputs": [],
   "source": [
    "vocab_ru = load_or_build_vocab(\n",
    "    dataset=dataset[\"train\"],\n",
    "    lang=\"ru\",\n",
    "    build_args={\"specials\": special_tokens, \"min_freq\": 3, \"max_tokens\": 40_000},\n",
    ")"
   ]
  },
  {
   "cell_type": "code",
   "execution_count": 29,
   "metadata": {},
   "outputs": [],
   "source": [
    "vocab_en = load_or_build_vocab(\n",
    "    dataset=dataset[\"train\"],\n",
    "    lang=\"en\",\n",
    "    build_args={\"specials\": special_tokens, \"min_freq\": 3, \"max_tokens\": 30_000},\n",
    ")"
   ]
  },
  {
   "cell_type": "markdown",
   "metadata": {},
   "source": [
    "Проверим, что в обоих словарях индексы для специальных токенов совпадают"
   ]
  },
  {
   "cell_type": "code",
   "execution_count": 30,
   "metadata": {},
   "outputs": [],
   "source": [
    "for token in special_tokens:\n",
    "    assert vocab_ru.get_stoi()[token] == vocab_en.get_stoi()[token], f\"Error! Token {token} is diffenet in two vocabs\""
   ]
  },
  {
   "cell_type": "markdown",
   "metadata": {},
   "source": [
    "Также достанем индексы для всех этих токенов"
   ]
  },
  {
   "cell_type": "code",
   "execution_count": 31,
   "metadata": {},
   "outputs": [],
   "source": [
    "unk_index = vocab_ru.get_stoi()[unk_token]\n",
    "pad_index = vocab_ru.get_stoi()[pad_token]\n",
    "sos_index = vocab_ru.get_stoi()[sos_token]\n",
    "eos_index = vocab_ru.get_stoi()[eos_token]"
   ]
  },
  {
   "cell_type": "markdown",
   "metadata": {},
   "source": [
    "Также в словарях сделаем дефолтным индексом (то есть тем, который словарь будет возвращать на неизвестный токен) значение `unk_index`"
   ]
  },
  {
   "cell_type": "code",
   "execution_count": 32,
   "metadata": {},
   "outputs": [],
   "source": [
    "vocab_en.set_default_index(unk_index)\n",
    "vocab_ru.set_default_index(unk_index)"
   ]
  },
  {
   "cell_type": "markdown",
   "metadata": {},
   "source": [
    "Посмотрим, каких длин получились токены в обоих словарях"
   ]
  },
  {
   "cell_type": "code",
   "execution_count": 33,
   "metadata": {},
   "outputs": [
    {
     "data": {
      "image/png": "[encoded data removed]",
      "text/plain": [
       "<Figure size 1000x500 with 2 Axes>"
      ]
     },
     "metadata": {},
     "output_type": "display_data"
    }
   ],
   "source": [
    "plot_characteristics(\n",
    "    x1=np.array([len(s) for s in vocab_ru.get_stoi().keys()]),\n",
    "    x2=np.array([len(s) for s in vocab_en.get_stoi().keys()]),\n",
    "    title=\"Mean token length in a vocabulary\",\n",
    "    xlabel=\"Mean token length\"\n",
    ")"
   ]
  },
  {
   "cell_type": "markdown",
   "metadata": {},
   "source": [
    "Как видим, в английском языке распределение выглядит довольно странным, но в целом находится в разумных пределах. Разброс кажется значительно меньшим\n",
    "\n",
    "Интересно также, насколько отличается в среднем количество токенов в двух языках. Для исследования этого отличия, сначала вновь замапим некоторые значения в датасет:\n",
    "- `ru_tokenized_length`: длина токенизированной последовательности на русском языке\n",
    "- `en_tokenized_length`: длина токенизированной последовательности на английском языке\n",
    "  \n",
    "Также токены переведем в индексы в наших словарях:\n",
    "- `ru_ids`: последовательность индексов в словаре для русского языка\n",
    "- `en_ids`: последовательность индексов в словаре для английского языка\n",
    "  \n",
    "Причем сделаем это, переведя их сразу же в `torch.Tensor`"
   ]
  },
  {
   "cell_type": "code",
   "execution_count": 34,
   "metadata": {},
   "outputs": [
    {
     "name": "stderr",
     "output_type": "stream",
     "text": [
      "Loading cached processed dataset at /home/ilyas/Documents/study/ml/machine_translation/data/cache/csv/default-a9ae0552c7a89f5b/0.0.0/6954658bab30a358235fa864b05cf819af0e179325c740e4bc853bcc7ec513e1/cache-94773a5a3aab63ce.arrow\n",
      "Loading cached processed dataset at /home/ilyas/Documents/study/ml/machine_translation/data/cache/csv/default-a9ae0552c7a89f5b/0.0.0/6954658bab30a358235fa864b05cf819af0e179325c740e4bc853bcc7ec513e1/cache-9a24220fc358dce0.arrow\n",
      "Loading cached processed dataset at /home/ilyas/Documents/study/ml/machine_translation/data/cache/csv/default-a9ae0552c7a89f5b/0.0.0/6954658bab30a358235fa864b05cf819af0e179325c740e4bc853bcc7ec513e1/cache-1ada884dc14abfd0.arrow\n"
     ]
    },
    {
     "data": {
      "text/plain": [
       "DatasetDict({\n",
       "    train: Dataset({\n",
       "        features: ['ru', 'en', 'ru_len', 'en_len', 'ru_tokens', 'en_tokens', 'ru_tokenized_length', 'en_tokenized_length', 'ru_ids', 'en_ids'],\n",
       "        num_rows: 769701\n",
       "    })\n",
       "    valid: Dataset({\n",
       "        features: ['ru', 'en', 'ru_len', 'en_len', 'ru_tokens', 'en_tokens', 'ru_tokenized_length', 'en_tokenized_length', 'ru_ids', 'en_ids'],\n",
       "        num_rows: 96272\n",
       "    })\n",
       "    test: Dataset({\n",
       "        features: ['ru', 'en', 'ru_len', 'en_len', 'ru_tokens', 'en_tokens', 'ru_tokenized_length', 'en_tokenized_length', 'ru_ids', 'en_ids'],\n",
       "        num_rows: 96144\n",
       "    })\n",
       "})"
      ]
     },
     "execution_count": 34,
     "metadata": {},
     "output_type": "execute_result"
    }
   ],
   "source": [
    "dataset = dataset.map(\n",
    "    lambda example: {\n",
    "        \"ru_tokenized_length\": len(example[\"ru_tokens\"]),\n",
    "        \"en_tokenized_length\": len(example[\"en_tokens\"]),\n",
    "        \"ru_ids\": vocab_ru.lookup_indices(example[\"ru_tokens\"]),\n",
    "        \"en_ids\": vocab_en.lookup_indices(example[\"en_tokens\"]),\n",
    "    }\n",
    ").with_format(type=\"torch\", columns=[\"ru_ids\", \"en_ids\"], output_all_columns=True)\n",
    "\n",
    "dataset"
   ]
  },
  {
   "cell_type": "markdown",
   "metadata": {},
   "source": [
    "Посмотрим на то, сколько получилось токенов в наших текстах"
   ]
  },
  {
   "cell_type": "code",
   "execution_count": 35,
   "metadata": {},
   "outputs": [
    {
     "data": {
      "image/png": "[encoded data removed]",
      "text/plain": [
       "<Figure size 1000x500 with 2 Axes>"
      ]
     },
     "metadata": {},
     "output_type": "display_data"
    }
   ],
   "source": [
    "plot_characteristics(\n",
    "    x1=np.array(dataset[\"train\"][\"ru_tokenized_length\"]),\n",
    "    x2=np.array(dataset[\"train\"][\"en_tokenized_length\"]),\n",
    "    title=\"Number of tokens in a sentence\",\n",
    "    xlabel=\"Number of tokens\"\n",
    ")"
   ]
  },
  {
   "cell_type": "markdown",
   "metadata": {},
   "source": [
    "Попробуем посмотреть какой-нибудь текст, где такое большое количество токенов"
   ]
  },
  {
   "cell_type": "code",
   "execution_count": 36,
   "metadata": {},
   "outputs": [
    {
     "name": "stdout",
     "output_type": "stream",
     "text": [
      "545198. ...32, 33, 34, 35, 36, 37, 38, 39, 40 47, 48, 49, 50, 51, 52, 53, 54,\n",
      "...32, 33, 34, 35, 36, 37, 38, 39, 40 47, 48, 49, 50, 51, 52, 53, 54,\n",
      "417332. 3, 4, 5, 6, 7, 8, 9, 10, 11... 12, 13, 14, 15, 16, 17, 18, 19, 20.\n",
      "12, 13, 14, 15, 16, 17, 18, 19, 20.\n",
      "154449. = О, да, да! Фея Утренней Зари, если это не слишком много, чтобы просить,.. = Я хотела бы быть такой же красивой, как ты.\n",
      "Yes, yes, Morning Fairy, and if it isn't too much to ask I'd like to be as pretty as you are.\n",
      "295578. Вот и я так думала, когда выходила замуж за музыканта, но с тех пор, как мы сказали \"Да\", я только и слышу, что \"Нет\".\n",
      "Yeah, that's what I thought when I married a bandleader, but ever since we said \"I do\", there are so many things we don't.\n",
      "545198. ...32, 33, 34, 35, 36, 37, 38, 39, 40 47, 48, 49, 50, 51, 52, 53, 54,\n",
      "...32, 33, 34, 35, 36, 37, 38, 39, 40 47, 48, 49, 50, 51, 52, 53, 54,\n"
     ]
    }
   ],
   "source": [
    "show_long_sentences(dataset[\"train\"], column=\"ru_tokenized_length\", length_threshold=35)"
   ]
  },
  {
   "cell_type": "markdown",
   "metadata": {},
   "source": [
    "Значения вполне приемлемые, просто зачастую в них достаточно много знаков препинания и цифр"
   ]
  },
  {
   "cell_type": "markdown",
   "metadata": {},
   "source": [
    "## 2. Model\n",
    "\n",
    "Обучать я буду модель `Sequence-to-Sequence`, основанную на рекуррентных нейронных сетях (`RNN`). Она состоит из:\n",
    "- `Encoder` - часть, которая переводит последовательность id токенов в векторное пространство (embedding)\n",
    "- `Decoder` - часть, которая по эмбеддингу генерирует новую последовательность\n",
    "- `Sequence2Sequence` - полная модель, включающая в себя `Encoder` и `Decoder`"
   ]
  },
  {
   "cell_type": "markdown",
   "metadata": {},
   "source": [
    "### 2.1. Encoder\n",
    "\n",
    "На вход подается последовательность из id для токенов исходного языка. Encoder преобразует эту последовательность в некоторый вектор, вложенный в пространство меньшей размерности (т.е. эмбеддинг). Поскольку мы будем пользоваться не обычным RNN, а немного более навороченным LSTM, encoder будет отдавать нам пару - `hidden state` и `cell state`. Полученный вектор будет использоваться декодером как вектор \"контекста\""
   ]
  },
  {
   "cell_type": "code",
   "execution_count": 37,
   "metadata": {},
   "outputs": [],
   "source": [
    "class Encoder(nn.Module):\n",
    "    def __init__(\n",
    "        self,\n",
    "        input_size: int,\n",
    "        embedding_size: int,\n",
    "        num_layers: int,\n",
    "        hidden_size: int,\n",
    "        p_dropout: float = 0,\n",
    "    ) -> None:\n",
    "        \"\"\"\n",
    "        Constructor for Encoder\n",
    "\n",
    "        Args:\n",
    "            input_size (int): size of an input vocabulary\n",
    "            embedding_size (int): number of features in token embeddings for input vocabulary\n",
    "            num_layers (int): number of LSTM layers in Encoder\n",
    "            hidden_size (int): number of features in the hidden state as well as in resulting embedding vector for an input sequence\n",
    "            p_dropout (float, optional): probability of dropout. Dropout is applied after \n",
    "                embedding layer and after every LSTM layer except for the last one.\n",
    "                Defaults to 0.\n",
    "        \"\"\"\n",
    "        super(Encoder, self).__init__()\n",
    "        self.input_size = input_size\n",
    "        self.embedding_size = embedding_size\n",
    "        self.num_layers = num_layers\n",
    "        self.hidden_size = hidden_size\n",
    "        self.p_dropout = p_dropout\n",
    "\n",
    "        self.embedding = nn.Embedding(input_size, embedding_size)\n",
    "        self.dropout = nn.Dropout(p_dropout)\n",
    "\n",
    "        rnn_dropout = p_dropout if num_layers > 1 else None\n",
    "        self.rnn = nn.LSTM(\n",
    "            input_size=embedding_size,\n",
    "            hidden_size=hidden_size,\n",
    "            batch_first=True,\n",
    "            dropout=rnn_dropout,\n",
    "            num_layers=self.num_layers,\n",
    "        )\n",
    "\n",
    "    def forward(\n",
    "        self, input: torch.Tensor, lengths: torch.Tensor\n",
    "    ) -> Tuple[torch.Tensor, torch.Tensor]:\n",
    "        \"\"\"\n",
    "        Forward pass\n",
    "\n",
    "        Args:\n",
    "            input (torch.Tensor): input tensor with padded rows of size (batch_size, max_length)\n",
    "            lengths (torch.Tensor): tensor of actual lengths, (batch_size,)\n",
    "\n",
    "        Returns:\n",
    "            torch.Tensor: hidden state of LSTM of size (num_layers, batch_size, hidden_size)\n",
    "            torch.Tensor: cell state of LSTM of size (num_layers, batch_size, hidden_size)\n",
    "        \"\"\"\n",
    "\n",
    "        # embeds: (batch_size, max_length, embedding_size)\n",
    "        embeds = self.embedding(input)\n",
    "        embeds = self.dropout(embeds)\n",
    "\n",
    "        packed_embeds = pack_padded_sequence(\n",
    "            embeds, lengths, batch_first=True, enforce_sorted=False\n",
    "        )\n",
    "\n",
    "        # output: packed sequence, if unpacked it will be (batch_size, max_length, hidden_size)\n",
    "        # hidden, cell: (num_layers, batch_size, hidden_size)\n",
    "        output, (hidden, cell) = self.rnn(packed_embeds)\n",
    "\n",
    "        return hidden, cell"
   ]
  },
  {
   "cell_type": "markdown",
   "metadata": {},
   "source": [
    "### 2.2. Decoder\n",
    "\n",
    "Задача декодера - по в"
   ]
  },
  {
   "cell_type": "code",
   "execution_count": 38,
   "metadata": {},
   "outputs": [],
   "source": [
    "class Decoder(nn.Module):\n",
    "    def __init__(\n",
    "        self,\n",
    "        embedding_size: int,\n",
    "        num_layers: int,\n",
    "        hidden_size: int,\n",
    "        output_size: int,\n",
    "        p_dropout: float = 0,\n",
    "    ) -> None:\n",
    "        \"\"\"\n",
    "        Constructor for Decoder\n",
    "\n",
    "        Args:\n",
    "            embedding_size (int): number of features in token embeddings for output vocabulary\n",
    "            num_layers (int): number of LSTM layers in Decoder\n",
    "            hidden_size (int): number of features in the hidden state\n",
    "            output_size (int): size of an output vocabulary\n",
    "            p_dropout (float, optional): probability of dropout. Dropout is applied after\n",
    "                embedding layer and after every LSTM layer except for the last one.\n",
    "                Defaults to 0.\n",
    "        \"\"\"\n",
    "        super(Decoder, self).__init__()\n",
    "        self.embedding_size = embedding_size\n",
    "        self.num_layers = num_layers\n",
    "        self.hidden_size = hidden_size\n",
    "        self.output_size = output_size\n",
    "        self.p_dropout = p_dropout\n",
    "\n",
    "        self.embedding = nn.Embedding(\n",
    "            num_embeddings=output_size, embedding_dim=embedding_size\n",
    "        )\n",
    "\n",
    "        self.dropout = nn.Dropout(p=p_dropout)\n",
    "\n",
    "        rnn_dropout = p_dropout if num_layers > 1 else None\n",
    "        self.rnn = nn.LSTM(\n",
    "            input_size=embedding_size,\n",
    "            hidden_size=hidden_size,\n",
    "            batch_first=True,\n",
    "            dropout=rnn_dropout,\n",
    "            num_layers=self.num_layers,\n",
    "        )\n",
    "        self.linear = nn.Linear(in_features=hidden_size, out_features=output_size)\n",
    "\n",
    "    def forward(\n",
    "        self, input: torch.Tensor, hidden: torch.Tensor, cell: torch.Tensor\n",
    "    ) -> Tuple[torch.Tensor, torch.Tensor, torch.Tensor]:\n",
    "        \"\"\"\n",
    "        Forward pass\n",
    "\n",
    "        Args:\n",
    "            input (torch.Tensor): input tensor of size (batch_size, 1). For every batch\n",
    "                there is exactly one input token id\n",
    "            hidden (torch.Tensor): hidden of size (num_layers, batch_size, hidden_size)\n",
    "            cell (torch.Tensor): cell of size (num_layers, batch_size, hidden_size)\n",
    "\n",
    "        Returns:\n",
    "            torch.Tensor: outputs (torch.Tensor): (batch_size, output_size)\n",
    "            torch.Tensor: hidden (torch.Tensor): hidden of size (num_layers, batch_size, hidden_size)\n",
    "            torch.Tensor: cell (torch.Tensor): cell of size (num_layers, batch_size, hidden_size)\n",
    "        \"\"\"\n",
    "        # embeds: (batch_size, 1, embedding_size)\n",
    "        embeds = self.embedding(input)\n",
    "        embeds = self.dropout(embeds)\n",
    "\n",
    "        # rnn_outputs: (batch_size, 1, hidden_size)\n",
    "        # hidden: (num_layers, batch_size, hidden_size)\n",
    "        # cell: (num_layers, batch_size, hidden_size)\n",
    "        rnn_outputs, (hidden, cell) = self.rnn(embeds, (hidden, cell))\n",
    "\n",
    "        # rnn_outputs: (batch_size, hidden_size)\n",
    "        rnn_outputs = rnn_outputs.squeeze(1)\n",
    "\n",
    "        # outputs: (batch_size, output_size)\n",
    "        outputs = self.linear(rnn_outputs)\n",
    "\n",
    "        return outputs, hidden, cell"
   ]
  },
  {
   "cell_type": "markdown",
   "metadata": {},
   "source": [
    "## 2.3. Sequence-to-Sequence"
   ]
  },
  {
   "cell_type": "code",
   "execution_count": 39,
   "metadata": {},
   "outputs": [],
   "source": [
    "class Sequence2Sequence(nn.Module):\n",
    "    def __init__(\n",
    "        self,\n",
    "        encoder: Encoder,\n",
    "        decoder: Decoder,\n",
    "        device: torch.device,\n",
    "        sos_index: int\n",
    "    ) -> None:\n",
    "        \"\"\"\n",
    "        Sequence2Sequence model\n",
    "\n",
    "        Args:\n",
    "            encoder (Encoder): encoder to encode an input sequence\n",
    "            decoder (Decoder): decoder to generate output sequence\n",
    "            device (torch.device): device used for computations\n",
    "            sos_index (int): index of the token for start of sequence\n",
    "        \"\"\"\n",
    "        super(Sequence2Sequence, self).__init__()\n",
    "        self.encoder = encoder.to(device)\n",
    "        self.decoder = decoder.to(device)\n",
    "\n",
    "        assert (\n",
    "            self.encoder.hidden_size == self.decoder.hidden_size\n",
    "        ), \"Encoder and Decoder must have the same hidden_size\"\n",
    "        assert (\n",
    "            self.encoder.num_layers == self.decoder.num_layers\n",
    "        ), \"Encoder and Decoder must have the same num_layers\"\n",
    "\n",
    "        self.sos_index = sos_index\n",
    "        self.device = device\n",
    "\n",
    "    def forward(\n",
    "        self,\n",
    "        input: torch.Tensor,\n",
    "        lengths: torch.Tensor,\n",
    "        target: torch.Tensor,\n",
    "        teacher_forcing_ratio: float = 0.5,\n",
    "    ) -> torch.Tensor:\n",
    "        \"\"\"\n",
    "        Forward pass for Sequence2Sequence\n",
    "\n",
    "        Args:\n",
    "            input (torch.Tensor): input tensor with padded rows of size (batch_size, max_length)\n",
    "            lengths (torch.Tensor): tensor of actual lengths, (batch_size,)\n",
    "            target (torch.Tensor): tensor of actual target value for each token id,\n",
    "                also has padded rows, size is (batch_size, max_length)\n",
    "            teacher_forcing_ratio (float, optional): probability of using actual target\n",
    "                as a model output in the training loop instead of a predicted value. Defaults to 0.5.\n",
    "\n",
    "        Returns:\n",
    "            torch.Tensor: output of size (batch_size, max_length, output_size) - a tensor of predictions:\n",
    "                for each sequence in a batch, for each token in a sequence - a model's prediction for next token\n",
    "        \"\"\"\n",
    "\n",
    "        # (batch_size, max_length)\n",
    "        input = input.to(self.device)\n",
    "        # (batch_size, max_length)\n",
    "        target = target.to(self.device)\n",
    "\n",
    "        batch_size = input.size()[0]\n",
    "        max_length = target.size()[1]\n",
    "\n",
    "        # (batch_size, max_length, output_size)\n",
    "        outputs = torch.zeros(\n",
    "            batch_size, max_length, self.decoder.output_size, device=self.device\n",
    "        )\n",
    "\n",
    "        # hidden and cell: (num_layers, batch_size, hidden_size)\n",
    "        hidden, cell = self.encoder(input, lengths)\n",
    "\n",
    "        # (batch_size, 1) of <sos>\n",
    "        decoder_input = torch.full(\n",
    "            (batch_size, 1), fill_value=self.sos_index, device=self.device\n",
    "        )\n",
    "        for i in range(1, max_length):\n",
    "            # out: (batch_size, output_size)\n",
    "            # hidden and cell: (num_layers, batch_size, hidden_size)\n",
    "            out, hidden, cell = self.decoder(decoder_input, hidden, cell)\n",
    "\n",
    "            if random.random() < teacher_forcing_ratio:\n",
    "                # We use real target as next decoder input\n",
    "\n",
    "                # (batch_size, 1)\n",
    "                decoder_input = target[:, i].unsqueeze(1)\n",
    "            else:\n",
    "                # We use previous decoder output as its next input\n",
    "\n",
    "                # (batch_size, 1)\n",
    "                decoder_input = out.argmax(1).unsqueeze(1)\n",
    "\n",
    "            # out: (batch_size, 1, output_size)\n",
    "            out = out.squeeze(1)\n",
    "            # Save outputs: for every batch, for this number of token (i), outputs (probabilities for each token)\n",
    "            outputs[:, i, :] = out\n",
    "\n",
    "        return outputs"
   ]
  },
  {
   "cell_type": "markdown",
   "metadata": {},
   "source": [
    "## 3. Utility\n",
    "\n",
    "Перед тем как мы нанчнем обучать модель, нужно сделать еще несколько шагов\n",
    "\n",
    "### 3.1. DataLoaders\n",
    "Нам нужна некоторая обертка над данными, которая сможет доставать сразу некоторую группу (мини-батч)"
   ]
  },
  {
   "cell_type": "code",
   "execution_count": 40,
   "metadata": {},
   "outputs": [],
   "source": [
    "def dataloader_collate_fn(batch: dict) -> dict:\n",
    "    ru_ids = [x[\"ru_ids\"] for x in batch]\n",
    "    en_ids = [x[\"en_ids\"] for x in batch]\n",
    "\n",
    "    ru_lengths = torch.IntTensor([x[\"ru_tokenized_length\"] for x in batch])\n",
    "    en_lengths = torch.IntTensor([x[\"en_tokenized_length\"] for x in batch])\n",
    "\n",
    "    ru_ids = pad_sequence(ru_ids, batch_first=True, padding_value=pad_index)\n",
    "    en_ids = pad_sequence(en_ids, batch_first=True, padding_value=pad_index)\n",
    "\n",
    "    return {\n",
    "        \"ru\": ru_ids,\n",
    "        \"en\": en_ids,\n",
    "        \"en_text\": [x[\"en\"] for x in batch], # for BLEU\n",
    "        \"ru_lengths\": ru_lengths,\n",
    "        \"en_lengths\": en_lengths,\n",
    "    }\n",
    "\n",
    "def get_dataloaders(dataset_dict: DatasetDict, batch_size: int, collate_fn: callable):\n",
    "    return (\n",
    "        DataLoader(\n",
    "            dataset_dict[\"train\"],\n",
    "            batch_size=batch_size,\n",
    "            collate_fn=collate_fn,\n",
    "            shuffle=True,\n",
    "        ),\n",
    "        DataLoader(\n",
    "            dataset_dict[\"valid\"],\n",
    "            batch_size=batch_size,\n",
    "            collate_fn=collate_fn,\n",
    "        ),\n",
    "        DataLoader(\n",
    "            dataset_dict[\"test\"],\n",
    "            batch_size=batch_size,\n",
    "            collate_fn=collate_fn,\n",
    "        ),\n",
    "    )"
   ]
  },
  {
   "cell_type": "markdown",
   "metadata": {},
   "source": [
    "### 3.2. Translator class\n",
    "\n",
    "Также создадим класс, который поможет нам опробовать модель в инференсе. Он также объединит в себе некоторые функции, такие как токенизация и перевод токенов в последовательность id"
   ]
  },
  {
   "cell_type": "code",
   "execution_count": 41,
   "metadata": {},
   "outputs": [],
   "source": [
    "class Translator:\n",
    "    def __init__(\n",
    "        self,\n",
    "        seq2seq: Sequence2Sequence,\n",
    "        nlp_input: spacy.Language,\n",
    "        nlp_output: spacy.Language,\n",
    "        vocab_input: Vocab,\n",
    "        vocab_output: Vocab,\n",
    "        sos_token: str,\n",
    "        eos_token: str,\n",
    "        unk_token: str,\n",
    "        pad_token: str,\n",
    "        sos_index: int,\n",
    "        eos_index: int,\n",
    "        max_tokens: int = 100,\n",
    "    ) -> None:\n",
    "        \"\"\"\n",
    "        Translator from Input language to Output language\n",
    "\n",
    "        Args:\n",
    "            seq2seq (Sequence2Sequence):\n",
    "            nlp_input (spacy.Language):\n",
    "            nlp_output (spacy.Language):\n",
    "            vocab_input (Vocab):\n",
    "            vocab_output (Vocab):\n",
    "            sos_token (str):\n",
    "            eos_token (str):\n",
    "            unk_token (str):\n",
    "            pad_token (str):\n",
    "            sos_index (int):\n",
    "            eos_index (int):\n",
    "            max_tokens (int, optional): max amount of tokens to generate when translating a sentence. Defaults to 100.\n",
    "        \"\"\"\n",
    "        self.seq2seq = seq2seq\n",
    "        self.nlp_input = nlp_input\n",
    "        self.nlp_output = nlp_output\n",
    "        self.vocab_input = vocab_input\n",
    "        self.vocab_output = vocab_output\n",
    "        self.sos_token = sos_token\n",
    "        self.eos_token = eos_token\n",
    "        self.unk_token = unk_token\n",
    "        self.pad_token = pad_token\n",
    "\n",
    "        self.special_tokens = [sos_token, eos_token, unk_token, pad_token]\n",
    "\n",
    "        self.sos_index = sos_index\n",
    "        self.eos_index = eos_index\n",
    "        self.max_tokens = max_tokens\n",
    "\n",
    "    def tokenize_input(self, s: str) -> List[str]:\n",
    "        return (\n",
    "            [self.sos_token]\n",
    "            + [token.text for token in self.nlp_input.tokenizer(s.lower())]\n",
    "            + [self.eos_token]\n",
    "        )\n",
    "\n",
    "    def tokenize_output(self, s: str) -> List[str]:\n",
    "        return (\n",
    "            [self.sos_token]\n",
    "            + [token.text for token in self.nlp_output.tokenizer(s.lower())]\n",
    "            + [self.eos_token]\n",
    "        )\n",
    "\n",
    "    def detokenize(self, tokens: List[str]) -> str:\n",
    "        # remove <sos>, <eos>, <unk>, <pad>\n",
    "        filtered = filter(lambda x: x not in self.special_tokens, tokens)\n",
    "        return \" \".join(filtered)\n",
    "\n",
    "    def translate_to_tokens(self, s: str, do_sample: bool = False) -> List[str]:\n",
    "        \"\"\"\n",
    "        Method to translate a sentence to a sequence of tokens\n",
    "\n",
    "        Args:\n",
    "            s (str): short sentence to translate\n",
    "            do_sample (bool, optional): whether to use sampling from a model output\n",
    "                or to use the most possible token. Defaults to False.\n",
    "\n",
    "        Returns:\n",
    "            List[str]: a sequence of tokens in an output language\n",
    "        \"\"\"\n",
    "        self.seq2seq.eval()\n",
    "        input_tokens = self.tokenize_input(s)\n",
    "        output_indices = self.vocab_input.lookup_indices(input_tokens)\n",
    "\n",
    "        # input: (1, length)\n",
    "        encoder_input = torch.tensor(\n",
    "            output_indices, device=self.seq2seq.device\n",
    "        ).unsqueeze(0)\n",
    "        encoder_lengths = torch.tensor([len(input_tokens)])\n",
    "\n",
    "        # hidden, cell: (num_layers, 1, hidden_size)\n",
    "        hidden, cell = self.seq2seq.encoder(encoder_input, encoder_lengths)\n",
    "\n",
    "        # (1, max_tokens)\n",
    "        output_tensor = torch.zeros(\n",
    "            size=(1, self.max_tokens), dtype=torch.int32, device=self.seq2seq.device\n",
    "        )\n",
    "        output_tensor[0][0] = self.sos_index\n",
    "\n",
    "        length = self.max_tokens\n",
    "\n",
    "        for i in range(1, self.max_tokens):\n",
    "            # decoder_input: (1, 1)\n",
    "            decoder_input = output_tensor[0, i - 1].reshape(1, 1)\n",
    "\n",
    "            # decoder_output: (1, output_size)\n",
    "            decoder_output, hidden, cell = self.seq2seq.decoder(\n",
    "                decoder_input, hidden, cell\n",
    "            )\n",
    "            # decoder_output: (output_size)\n",
    "            decoder_output = decoder_output.squeeze(0)\n",
    "\n",
    "            # out token id\n",
    "            out = (\n",
    "                torch.distributions.Categorical(logits=decoder_output).sample()\n",
    "                if do_sample\n",
    "                else decoder_output.argmax()\n",
    "            )\n",
    "\n",
    "            output_tensor[0, i] = out\n",
    "\n",
    "            if out.item() == self.eos_index:\n",
    "                length = i + 1\n",
    "                break\n",
    "\n",
    "        output_indices = output_tensor.reshape(-1)[:length].tolist()\n",
    "        output_tokens = self.vocab_output.lookup_tokens(output_indices)\n",
    "        return output_tokens\n",
    "\n",
    "    def translate(self, s: str, do_sample: bool = False) -> str:\n",
    "        \"\"\"\n",
    "        Method to translate a sentence\n",
    "\n",
    "        Args:\n",
    "            s (str): short sentence to translate\n",
    "            do_sample (bool, optional): whether to use sampling from a model output\n",
    "                or to use the most possible token. Defaults to False.\n",
    "\n",
    "        Returns:\n",
    "            str: translation in an output language\n",
    "        \"\"\"\n",
    "        return self.detokenize(self.translate_to_tokens(s, do_sample=do_sample))\n",
    "\n",
    "    def output_to_texts(self, output: torch.Tensor) -> List[str]:\n",
    "        \"\"\"\n",
    "        Convert model output to a list of translated texts\n",
    "\n",
    "        Args:\n",
    "            output (torch.Tensor): tensor of model output of size (batch_size, max_length, output_size)\n",
    "\n",
    "        Returns:\n",
    "            List[str]: list with translated texts\n",
    "        \"\"\"\n",
    "        # output (batch_size, max_length, output_size)\n",
    "\n",
    "        # indices (batch_size, max_length)\n",
    "        indices = torch.argmax(output, dim=2)\n",
    "\n",
    "        lst = []\n",
    "\n",
    "        batch_size = indices.size()[0]\n",
    "        for i in range(batch_size):\n",
    "            indices_list = indices[i].tolist()\n",
    "\n",
    "            tokens_list = self.vocab_output.lookup_tokens(indices_list)\n",
    "\n",
    "            lst.append(self.detokenize(tokens_list))\n",
    "\n",
    "        return lst"
   ]
  },
  {
   "cell_type": "markdown",
   "metadata": {},
   "source": [
    "### 3.3. Checkpoints\n",
    "\n",
    "Задача стоит довольно трудоемкая, обучение модели будет долгим. Поэтому нужно обязательно позаботиться о том, чтобы сохранять и загружать ее состояние"
   ]
  },
  {
   "cell_type": "code",
   "execution_count": 42,
   "metadata": {},
   "outputs": [],
   "source": [
    "def save_checkpoint(\n",
    "    seq2seq: Sequence2Sequence,\n",
    "    optimizer: torch.optim.Optimizer,\n",
    "    epoch: int,\n",
    "    train_loss: List[float],\n",
    "    valid_loss: List[float],\n",
    "    valid_metric: List[float],\n",
    "    path: str = \"model-data/translator.pth\",\n",
    ") -> None:\n",
    "    checkpoint = {\n",
    "        \"seq2seq_state_dict\": seq2seq.state_dict(),\n",
    "        \"optimizer_state_dict\": optimizer.state_dict(),\n",
    "        \"epoch\": epoch,\n",
    "        \"train_loss\": train_loss,\n",
    "        \"valid_loss\": valid_loss,\n",
    "        \"valid_metric\": valid_metric,\n",
    "    }\n",
    "    torch.save(checkpoint, path)\n",
    "\n",
    "\n",
    "def load_checkpoint(\n",
    "    path: str,\n",
    ") -> dict:\n",
    "    return torch.load(path)"
   ]
  },
  {
   "cell_type": "markdown",
   "metadata": {},
   "source": [
    "### 3.4. Metric\n",
    "\n",
    "Нужно выбрать адекватную метрику для нашей задачей. Я остановился на [BLEU](https://en.wikipedia.org/wiki/BLEU) - одной из самых популярных метрик для задачи машинного перевода. На мой взгляд, для уровня этого проекта подобной метрики будет вполне достаточно"
   ]
  },
  {
   "cell_type": "markdown",
   "metadata": {},
   "source": [
    "## 4. Training\n",
    "\n",
    "Пришло время написать цикл обучения модели\n",
    "\n",
    "### 4.1. Графики\n",
    "\n",
    "Функция, которая будет визуализировать значение Loss-function и метрики на тренировочной и валидационной выборках"
   ]
  },
  {
   "cell_type": "code",
   "execution_count": 43,
   "metadata": {},
   "outputs": [],
   "source": [
    "def plot_losses(\n",
    "    train_loss: List[float],\n",
    "    val_loss: List[float],\n",
    "    val_metric: List[float],\n",
    "    loss_label: str = \"loss\",\n",
    "    metric_label: str = \"metric\",\n",
    "):\n",
    "    clear_output()\n",
    "    n_epochs = len(train_loss)\n",
    "    epochs = np.arange(1, n_epochs + 1)\n",
    "\n",
    "    fig, ax = plt.subplots(1, 2, figsize=(12, 6))\n",
    "    ax[0].plot(epochs, train_loss, marker=\".\", label=f\"train {loss_label}\")\n",
    "    ax[0].plot(epochs, val_loss, marker=\".\", label=f\"val {loss_label}\")\n",
    "    ax[0].set_xlabel(\"epoch\")\n",
    "    ax[0].set_ylabel(loss_label)\n",
    "    ax[0].set_title(f\"epoch -- {loss_label}\")\n",
    "\n",
    "    ax[1].plot(epochs, val_metric, marker=\".\", label=f\"val {metric_label}\")\n",
    "    ax[1].set_xlabel(\"epoch\")\n",
    "    ax[1].set_ylabel(metric_label)\n",
    "    ax[1].set_title(f\"epoch -- {metric_label}\")\n",
    "\n",
    "    ax[0].legend()\n",
    "    ax[1].legend()\n",
    "    plt.show()"
   ]
  },
  {
   "cell_type": "markdown",
   "metadata": {},
   "source": [
    "### 4.2. Тренирочный цикл\n",
    "\n",
    "Проходим по всем батчам, производя обратное распространение ошибки, считаем и возвращаем лосс. Метрику считать на тренировочной выборке не будем, поскольку эту занимает уж очень много времени\n",
    "\n",
    "Также не будем забывать про проблему \"взрывных градиентов\" (exploding gradients), поэтому будем обрезать значения градиентов"
   ]
  },
  {
   "cell_type": "code",
   "execution_count": 44,
   "metadata": {},
   "outputs": [],
   "source": [
    "def train_epoch(\n",
    "    train_loader: DataLoader,\n",
    "    epoch: int,\n",
    "    num_epochs: int,\n",
    "    model: Sequence2Sequence,\n",
    "    optimizer: torch.optim.Optimizer,\n",
    "    criterion: torch.nn.Module,\n",
    "    device: torch.device,\n",
    "    teacher_forcing_ratio: float = 0.5,\n",
    ") -> int:\n",
    "    model.train()\n",
    "\n",
    "    current_loss = 0\n",
    "\n",
    "    for batch in tqdm(train_loader, desc=f\"Training, epoch {epoch}/{num_epochs}\"):\n",
    "        optimizer.zero_grad()\n",
    "\n",
    "        input = batch[\"ru\"].to(device)\n",
    "        lengths = batch[\"ru_lengths\"]\n",
    "        target = batch[\"en\"].to(device)\n",
    "        batch_size = input.size()[0]\n",
    "\n",
    "        pred = model(\n",
    "            input,\n",
    "            lengths,\n",
    "            target=target,\n",
    "            teacher_forcing_ratio=teacher_forcing_ratio,\n",
    "        )\n",
    "\n",
    "        pred = pred[:, 1:, :].transpose(1, 2)\n",
    "        target = target[:, 1:]\n",
    "\n",
    "        loss = criterion(pred, target)\n",
    "\n",
    "        loss.backward()\n",
    "        \n",
    "        clip_grad_norm_(model.parameters(), 1.0)\n",
    "        \n",
    "        optimizer.step()\n",
    "\n",
    "        current_loss += loss.item() * batch_size\n",
    "\n",
    "        loss = None\n",
    "\n",
    "    current_loss /= len(train_loader)\n",
    "\n",
    "    return current_loss"
   ]
  },
  {
   "cell_type": "markdown",
   "metadata": {},
   "source": [
    "### 4.3. Валидационный цикл\n",
    "\n",
    "Проходим по всем батчам, считаем и возвращаем лосс и метрику"
   ]
  },
  {
   "cell_type": "code",
   "execution_count": 45,
   "metadata": {},
   "outputs": [],
   "source": [
    "def validate_epoch(\n",
    "    val_loader: DataLoader,\n",
    "    epoch: int,\n",
    "    num_epochs: int,\n",
    "    model: Sequence2Sequence,\n",
    "    criterion: torch.nn.Module,\n",
    "    metric: callable,\n",
    "    device,\n",
    ") -> Tuple[int, int]:\n",
    "    current_loss = 0\n",
    "    current_metric = 0\n",
    "    model.eval()\n",
    "    for batch in tqdm(val_loader, desc=f\"Validating, epoch {epoch}/{num_epochs}\"):\n",
    "        input = batch[\"ru\"].to(device)\n",
    "        lengths = batch[\"ru_lengths\"]\n",
    "        target = batch[\"en\"].to(device)\n",
    "\n",
    "        batch_size = input.size()[0]\n",
    "\n",
    "        pred = model(\n",
    "            input,\n",
    "            lengths,\n",
    "            target=target,\n",
    "            teacher_forcing_ratio=0,\n",
    "        )\n",
    "\n",
    "        pred = pred[:, 1:, :].transpose(1, 2)\n",
    "        target = target[:, 1:]\n",
    "\n",
    "        loss = criterion(pred, target)\n",
    "\n",
    "        current_loss += loss.item() * batch_size\n",
    "        current_metric += metric(pred, batch) * batch_size\n",
    "\n",
    "        loss = None\n",
    "\n",
    "    current_loss /= len(val_loader)\n",
    "    current_metric /= len(val_loader)\n",
    "\n",
    "    return current_loss, current_metric"
   ]
  },
  {
   "cell_type": "markdown",
   "metadata": {},
   "source": [
    "### 4.4. Функция обучения\n",
    "\n",
    "1. Если месть сохраненная модель, загружаем ее\n",
    "2. Проходим по каждой эпохе:\n",
    "   - Тренировочный цикл\n",
    "   - Шаг планировщика (scheduler)\n",
    "   - Валидационный цикл\n",
    "   - Построение графиков\n",
    "   - Сохранение состояния: модели, оптимизатора, метрик и лосса\n",
    "   - Если модель еще и стала лучше, то сохраняем ее как best model\n",
    "   - Показываем примеры перевода"
   ]
  },
  {
   "cell_type": "code",
   "execution_count": 46,
   "metadata": {},
   "outputs": [],
   "source": [
    "def train(\n",
    "    seq2seq: Sequence2Sequence,\n",
    "    optimizer: torch.optim.Optimizer,\n",
    "    criterion: torch.nn.Module,\n",
    "    metric: callable,\n",
    "    scheduler,\n",
    "    num_epochs: int,\n",
    "    train_loader: DataLoader,\n",
    "    val_loader: DataLoader,\n",
    "    teacher_forcing_ratio: float = 0.5,\n",
    "    path_to_save: str = \"model/translator-training.pt\",\n",
    "    path_to_save_best: str = \"model/translator-best.pt\",\n",
    "    loss_label: str = \"loss\",\n",
    "    metric_label: str = \"metric\",\n",
    "    translator: Translator | None = None,\n",
    "    examples_to_translate: List[str] = [],\n",
    ") -> Tuple[List[float], List[float], List[float], List[float]]:\n",
    "    train_loss, val_loss = [], []\n",
    "    val_metric = []\n",
    "    last_epoch = 0\n",
    "\n",
    "    if os.path.exists(path_to_save):\n",
    "        checkpoint = load_checkpoint(path_to_save)\n",
    "        seq2seq.load_state_dict(checkpoint[\"seq2seq_state_dict\"])\n",
    "        optimizer.load_state_dict(checkpoint[\"optimizer_state_dict\"])\n",
    "        train_loss, val_loss, val_metric = (\n",
    "            checkpoint[\"train_loss\"],\n",
    "            checkpoint[\"valid_loss\"],\n",
    "            checkpoint[\"valid_metric\"],\n",
    "        )\n",
    "        last_epoch = checkpoint[\"epoch\"]\n",
    "\n",
    "    device = seq2seq.device\n",
    "    for epoch in range(last_epoch + 1, num_epochs + 1):\n",
    "        loss_value = train_epoch(\n",
    "            train_loader,\n",
    "            epoch,\n",
    "            num_epochs,\n",
    "            seq2seq,\n",
    "            optimizer,\n",
    "            criterion,\n",
    "            device,\n",
    "            teacher_forcing_ratio,\n",
    "        )\n",
    "        train_loss.append(loss_value)\n",
    "\n",
    "        if scheduler:\n",
    "            scheduler.step()\n",
    "\n",
    "        with torch.no_grad():\n",
    "            loss_value, metric_value = validate_epoch(\n",
    "                val_loader, epoch, num_epochs, seq2seq, criterion, metric, device\n",
    "            )\n",
    "\n",
    "        val_loss.append(loss_value)\n",
    "        val_metric.append(metric_value)\n",
    "\n",
    "        plot_losses(\n",
    "            train_loss,\n",
    "            val_loss,\n",
    "            val_metric,\n",
    "            loss_label=loss_label,\n",
    "            metric_label=metric_label,\n",
    "        )\n",
    "\n",
    "        print(\"Saving checkpoint...\")\n",
    "        save_checkpoint(\n",
    "            seq2seq,\n",
    "            optimizer,\n",
    "            epoch,\n",
    "            train_loss,\n",
    "            val_loss,\n",
    "            val_metric,\n",
    "            path=path_to_save,\n",
    "        )\n",
    "\n",
    "        if val_metric[-1] == min(val_metric):\n",
    "            print(\"Saving checkpoint as best...\")\n",
    "            save_checkpoint(\n",
    "                seq2seq,\n",
    "                optimizer,\n",
    "                epoch,\n",
    "                train_loss,\n",
    "                val_loss,\n",
    "                val_metric,\n",
    "                path=path_to_save_best,\n",
    "            )\n",
    "\n",
    "        if translator is not None:\n",
    "            print(\"Translating examples:\")\n",
    "            for i, s in enumerate(examples_to_translate):\n",
    "                translated = translator.translate(s)\n",
    "                print(f\"{i + 1}. {s}\")\n",
    "                print(translated)\n",
    "                print(\"****************\")\n",
    "\n",
    "    return train_loss, val_loss, val_metric"
   ]
  },
  {
   "cell_type": "markdown",
   "metadata": {},
   "source": [
    "### 4.5. Создание моделей\n",
    "\n",
    "Во-первых, еще раз зафиксируем сид"
   ]
  },
  {
   "cell_type": "code",
   "execution_count": 47,
   "metadata": {},
   "outputs": [],
   "source": [
    "set_seed(seed)"
   ]
  },
  {
   "cell_type": "markdown",
   "metadata": {},
   "source": [
    "К сожалению, создать такую же сложную модель, как и в оригинальной статье, на которую я частично опираюсь (['Sequence to Sequence Learning with Neural Networks'](https://arxiv.org/abs/1409.3215)), не получится, поэтому гиперпараметры модели выставим поскромнее"
   ]
  },
  {
   "cell_type": "code",
   "execution_count": 48,
   "metadata": {},
   "outputs": [
    {
     "name": "stdout",
     "output_type": "stream",
     "text": [
      "Device is: cuda\n",
      "Num params: 34991841\n"
     ]
    }
   ],
   "source": [
    "EMBEDDING_SIZE = 300\n",
    "NUM_LAYERS = 4\n",
    "HIDDEN_SIZE = 300\n",
    "P_DROPOUT = 0.3\n",
    "INPUT_SIZE = len(vocab_ru)\n",
    "OUTPUT_SIZE = len(vocab_en)\n",
    "device = torch.device(\"cuda\" if torch.cuda.is_available() else \"cpu\")\n",
    "print(f\"Device is: {device}\")\n",
    "\n",
    "encoder = Encoder(INPUT_SIZE, EMBEDDING_SIZE, NUM_LAYERS, HIDDEN_SIZE, P_DROPOUT)\n",
    "decoder = Decoder(EMBEDDING_SIZE, NUM_LAYERS, HIDDEN_SIZE, OUTPUT_SIZE, P_DROPOUT)\n",
    "\n",
    "seq2seq = Sequence2Sequence(\n",
    "    encoder,\n",
    "    decoder,\n",
    "    device,\n",
    "    sos_index=sos_index,\n",
    ")\n",
    "\n",
    "print(f\"Num params: {sum(p.numel() for p in seq2seq.parameters())}\")"
   ]
  },
  {
   "cell_type": "markdown",
   "metadata": {},
   "source": [
    "Как было описано в статье, я проинициализирую веса с помощью равномерного распределения"
   ]
  },
  {
   "cell_type": "code",
   "execution_count": 49,
   "metadata": {},
   "outputs": [],
   "source": [
    "for _, param in seq2seq.named_parameters():\n",
    "    nn.init.uniform_(param.data, -0.08, 0.08)"
   ]
  },
  {
   "cell_type": "code",
   "execution_count": 50,
   "metadata": {},
   "outputs": [],
   "source": [
    "LEARNING_RATE = 0.01\n",
    "NUM_EPOCHS = 10\n",
    "TEACHER_FORCING_RATIO = 0.5\n",
    "BATCH_SIZE = 128\n",
    "\n",
    "translator = Translator(\n",
    "    seq2seq=seq2seq,\n",
    "    nlp_input=nlp_ru,\n",
    "    nlp_output=nlp_en,\n",
    "    vocab_input=vocab_ru,\n",
    "    vocab_output=vocab_en,\n",
    "    sos_token=sos_token,\n",
    "    eos_token=eos_token,\n",
    "    unk_token=unk_token,\n",
    "    pad_token=pad_token,\n",
    "    sos_index=sos_index,\n",
    "    eos_index=eos_index,\n",
    "    max_tokens=100,\n",
    ")\n",
    "\n",
    "\n",
    "optimizer = torch.optim.Adam(seq2seq.parameters(), lr=LEARNING_RATE)\n",
    "scheduler = torch.optim.lr_scheduler.MultiStepLR(\n",
    "    optimizer, milestones=[3, 5, 7, 9], gamma=0.5\n",
    ")\n",
    "criterion = torch.nn.CrossEntropyLoss(ignore_index=pad_index).to(device)\n",
    "\n",
    "train_loader, valid_loader, test_loader = get_dataloaders(\n",
    "    dataset, batch_size=BATCH_SIZE, collate_fn=dataloader_collate_fn\n",
    ")\n",
    "\n",
    "\n",
    "examples_to_translate = [\n",
    "    \"Я должен сказать тебе правду: я машинист!\",\n",
    "    \"Трудно быть Богом, конечно... Но что поделать!\",\n",
    "    \"Как же хочется, чтобы меня взяли на работу\",\n",
    "]\n",
    "\n",
    "\n",
    "def metric(predictions: torch.Tensor, batch: dict) -> float:\n",
    "    translations = translator.output_to_texts(predictions)\n",
    "    return bleu_score(translations, batch[\"en_text\"])"
   ]
  },
  {
   "cell_type": "code",
   "execution_count": 51,
   "metadata": {},
   "outputs": [
    {
     "data": {
      "application/vnd.jupyter.widget-view+json": {
       "model_id": "cc0b7d71d0cc43a383215be2cc8618c6",
       "version_major": 2,
       "version_minor": 0
      },
      "text/plain": [
       "Training, epoch 1/10:   0%|          | 0/6014 [00:00<?, ?it/s]"
      ]
     },
     "metadata": {},
     "output_type": "display_data"
    },
    {
     "ename": "KeyboardInterrupt",
     "evalue": "",
     "output_type": "error",
     "traceback": [
      "\u001b[0;31m---------------------------------------------------------------------------\u001b[0m",
      "\u001b[0;31mKeyboardInterrupt\u001b[0m                         Traceback (most recent call last)",
      "Cell \u001b[0;32mIn[51], line 1\u001b[0m\n\u001b[0;32m----> 1\u001b[0m train(\n\u001b[1;32m      2\u001b[0m     seq2seq\u001b[38;5;241m=\u001b[39mseq2seq,\n\u001b[1;32m      3\u001b[0m     optimizer\u001b[38;5;241m=\u001b[39moptimizer,\n\u001b[1;32m      4\u001b[0m     criterion\u001b[38;5;241m=\u001b[39mcriterion,\n\u001b[1;32m      5\u001b[0m     metric\u001b[38;5;241m=\u001b[39mmetric,\n\u001b[1;32m      6\u001b[0m     scheduler\u001b[38;5;241m=\u001b[39mscheduler,\n\u001b[1;32m      7\u001b[0m     num_epochs\u001b[38;5;241m=\u001b[39mNUM_EPOCHS,\n\u001b[1;32m      8\u001b[0m     train_loader\u001b[38;5;241m=\u001b[39mtrain_loader,\n\u001b[1;32m      9\u001b[0m     val_loader\u001b[38;5;241m=\u001b[39mvalid_loader,\n\u001b[1;32m     10\u001b[0m     teacher_forcing_ratio\u001b[38;5;241m=\u001b[39mTEACHER_FORCING_RATIO,\n\u001b[1;32m     11\u001b[0m     path_to_save\u001b[38;5;241m=\u001b[39m\u001b[38;5;124m\"\u001b[39m\u001b[38;5;124mmodel-data/translator-training.pth\u001b[39m\u001b[38;5;124m\"\u001b[39m,\n\u001b[1;32m     12\u001b[0m     path_to_save_best\u001b[38;5;241m=\u001b[39m\u001b[38;5;124m\"\u001b[39m\u001b[38;5;124mmodel-data/translator-best.pth\u001b[39m\u001b[38;5;124m\"\u001b[39m,\n\u001b[1;32m     13\u001b[0m     loss_label\u001b[38;5;241m=\u001b[39m\u001b[38;5;124m\"\u001b[39m\u001b[38;5;124mCross-Entropy\u001b[39m\u001b[38;5;124m\"\u001b[39m,\n\u001b[1;32m     14\u001b[0m     metric_label\u001b[38;5;241m=\u001b[39m\u001b[38;5;124m\"\u001b[39m\u001b[38;5;124mBLEU score\u001b[39m\u001b[38;5;124m\"\u001b[39m,\n\u001b[1;32m     15\u001b[0m     translator\u001b[38;5;241m=\u001b[39mtranslator,\n\u001b[1;32m     16\u001b[0m     examples_to_translate\u001b[38;5;241m=\u001b[39mexamples_to_translate,\n\u001b[1;32m     17\u001b[0m )\n",
      "Cell \u001b[0;32mIn[46], line 35\u001b[0m, in \u001b[0;36mtrain\u001b[0;34m(seq2seq, optimizer, criterion, metric, scheduler, num_epochs, train_loader, val_loader, teacher_forcing_ratio, path_to_save, path_to_save_best, loss_label, metric_label, translator, examples_to_translate)\u001b[0m\n\u001b[1;32m     33\u001b[0m device \u001b[38;5;241m=\u001b[39m seq2seq\u001b[38;5;241m.\u001b[39mdevice\n\u001b[1;32m     34\u001b[0m \u001b[38;5;28;01mfor\u001b[39;00m epoch \u001b[38;5;129;01min\u001b[39;00m \u001b[38;5;28mrange\u001b[39m(last_epoch \u001b[38;5;241m+\u001b[39m \u001b[38;5;241m1\u001b[39m, num_epochs \u001b[38;5;241m+\u001b[39m \u001b[38;5;241m1\u001b[39m):\n\u001b[0;32m---> 35\u001b[0m     loss_value \u001b[38;5;241m=\u001b[39m train_epoch(\n\u001b[1;32m     36\u001b[0m         train_loader,\n\u001b[1;32m     37\u001b[0m         epoch,\n\u001b[1;32m     38\u001b[0m         num_epochs,\n\u001b[1;32m     39\u001b[0m         seq2seq,\n\u001b[1;32m     40\u001b[0m         optimizer,\n\u001b[1;32m     41\u001b[0m         criterion,\n\u001b[1;32m     42\u001b[0m         device,\n\u001b[1;32m     43\u001b[0m         teacher_forcing_ratio,\n\u001b[1;32m     44\u001b[0m     )\n\u001b[1;32m     45\u001b[0m     train_loss\u001b[38;5;241m.\u001b[39mappend(loss_value)\n\u001b[1;32m     47\u001b[0m     \u001b[38;5;28;01mif\u001b[39;00m scheduler:\n",
      "Cell \u001b[0;32mIn[44], line 41\u001b[0m, in \u001b[0;36mtrain_epoch\u001b[0;34m(train_loader, epoch, num_epochs, model, optimizer, criterion, device, teacher_forcing_ratio)\u001b[0m\n\u001b[1;32m     37\u001b[0m     clip_grad_norm_(model\u001b[38;5;241m.\u001b[39mparameters(), \u001b[38;5;241m1.0\u001b[39m)\n\u001b[1;32m     39\u001b[0m     optimizer\u001b[38;5;241m.\u001b[39mstep()\n\u001b[0;32m---> 41\u001b[0m     current_loss \u001b[38;5;241m+\u001b[39m\u001b[38;5;241m=\u001b[39m loss\u001b[38;5;241m.\u001b[39mitem() \u001b[38;5;241m*\u001b[39m batch_size\n\u001b[1;32m     43\u001b[0m     loss \u001b[38;5;241m=\u001b[39m \u001b[38;5;28;01mNone\u001b[39;00m\n\u001b[1;32m     45\u001b[0m current_loss \u001b[38;5;241m/\u001b[39m\u001b[38;5;241m=\u001b[39m \u001b[38;5;28mlen\u001b[39m(train_loader)\n",
      "\u001b[0;31mKeyboardInterrupt\u001b[0m: "
     ]
    }
   ],
   "source": [
    "train(\n",
    "    seq2seq=seq2seq,\n",
    "    optimizer=optimizer,\n",
    "    criterion=criterion,\n",
    "    metric=metric,\n",
    "    scheduler=scheduler,\n",
    "    num_epochs=NUM_EPOCHS,\n",
    "    train_loader=train_loader,\n",
    "    val_loader=valid_loader,\n",
    "    teacher_forcing_ratio=TEACHER_FORCING_RATIO,\n",
    "    path_to_save=\"model-data/translator-training.pth\",\n",
    "    path_to_save_best=\"model-data/translator-best.pth\",\n",
    "    loss_label=\"Cross-Entropy\",\n",
    "    metric_label=\"BLEU score\",\n",
    "    translator=translator,\n",
    "    examples_to_translate=examples_to_translate,\n",
    ")"
   ]
  },
  {
   "cell_type": "markdown",
   "metadata": {},
   "source": [
    "Ресурсы, которые помогли мне с разработкой проекта:\n",
    "- Статья ['Sequence to Sequence Learning with Neural Networks'](https://arxiv.org/abs/1409.3215)\n",
    "- Ноутбук с гитхаба [benrevett](https://github.com/bentrevett/pytorch-seq2seq/blob/main/1%20-%20Sequence%20to%20Sequence%20Learning%20with%20Neural%20Networks.ipynb)"
   ]
  }
 ],
 "metadata": {
  "kernelspec": {
   "display_name": "base",
   "language": "python",
   "name": "python3"
  },
  "language_info": {
   "codemirror_mode": {
    "name": "ipython",
    "version": 3
   },
   "file_extension": ".py",
   "mimetype": "text/x-python",
   "name": "python",
   "nbconvert_exporter": "python",
   "pygments_lexer": "ipython3",
   "version": "3.11.5"
  }
 },
 "nbformat": 4,
 "nbformat_minor": 2
}
